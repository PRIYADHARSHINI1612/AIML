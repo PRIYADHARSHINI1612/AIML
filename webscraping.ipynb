{
 "cells": [
  {
   "cell_type": "code",
   "execution_count": 25,
   "id": "18127f3e-8d96-43df-a05a-ac34735be67a",
   "metadata": {},
   "outputs": [],
   "source": [
    "#pip install beautifulsoup4\n",
    "#pip install beautifulsoup4 requests\n",
    "import requests\n",
    "from bs4 import BeautifulSoup"
   ]
  },
  {
   "cell_type": "code",
   "execution_count": 26,
   "id": "4b9d181b-3a17-476c-a3d5-d34cd1529f1c",
   "metadata": {},
   "outputs": [],
   "source": [
    "# Target URL\n",
    "url = \"http://books.toscrape.com\""
   ]
  },
  {
   "cell_type": "code",
   "execution_count": 27,
   "id": "8f54931a-51f6-457b-b0e5-87be75879571",
   "metadata": {},
   "outputs": [],
   "source": [
    "# Send a GET request\n",
    "response = requests.get(url)"
   ]
  },
  {
   "cell_type": "code",
   "execution_count": 28,
   "id": "bc417525-cd4a-4c63-a8dc-f41994b18120",
   "metadata": {},
   "outputs": [],
   "source": [
    "# Parse the HTML\n",
    "soup = BeautifulSoup(response.text, 'html.parser')"
   ]
  },
  {
   "cell_type": "code",
   "execution_count": 35,
   "id": "0773750f-dfc8-4eb6-b200-d47d7d7d11a1",
   "metadata": {},
   "outputs": [
    {
     "name": "stdout",
     "output_type": "stream",
     "text": [
      "Title: A Light in the Attic\n",
      "Price: Â£51.77\n",
      "\n",
      "Title: Tipping the Velvet\n",
      "Price: Â£53.74\n",
      "\n",
      "Title: Soumission\n",
      "Price: Â£50.10\n",
      "\n",
      "Title: Sharp Objects\n",
      "Price: Â£47.82\n",
      "\n",
      "Title: Sapiens: A Brief History of Humankind\n",
      "Price: Â£54.23\n",
      "\n",
      "Title: The Requiem Red\n",
      "Price: Â£22.65\n",
      "\n",
      "Title: The Dirty Little Secrets of Getting Your Dream Job\n",
      "Price: Â£33.34\n",
      "\n",
      "Title: The Coming Woman: A Novel Based on the Life of the Infamous Feminist, Victoria Woodhull\n",
      "Price: Â£17.93\n",
      "\n",
      "Title: The Boys in the Boat: Nine Americans and Their Epic Quest for Gold at the 1936 Berlin Olympics\n",
      "Price: Â£22.60\n",
      "\n",
      "Title: The Black Maria\n",
      "Price: Â£52.15\n",
      "\n",
      "Title: Starving Hearts (Triangular Trade Trilogy, #1)\n",
      "Price: Â£13.99\n",
      "\n",
      "Title: Shakespeare's Sonnets\n",
      "Price: Â£20.66\n",
      "\n",
      "Title: Set Me Free\n",
      "Price: Â£17.46\n",
      "\n",
      "Title: Scott Pilgrim's Precious Little Life (Scott Pilgrim #1)\n",
      "Price: Â£52.29\n",
      "\n",
      "Title: Rip it Up and Start Again\n",
      "Price: Â£35.02\n",
      "\n",
      "Title: Our Band Could Be Your Life: Scenes from the American Indie Underground, 1981-1991\n",
      "Price: Â£57.25\n",
      "\n",
      "Title: Olio\n",
      "Price: Â£23.88\n",
      "\n",
      "Title: Mesaerion: The Best Science Fiction Stories 1800-1849\n",
      "Price: Â£37.59\n",
      "\n",
      "Title: Libertarianism for Beginners\n",
      "Price: Â£51.33\n",
      "\n",
      "Title: It's Only the Himalayas\n",
      "Price: Â£45.17\n",
      "\n"
     ]
    }
   ],
   "source": [
    "# Find all book containers\n",
    "book_data = []\n",
    "books = soup.find_all('article', class_='product_pod')\n",
    "\n",
    "for book in books:\n",
    "    title = book.h3.a['title']\n",
    "    price = book.find('p', class_='price_color').text\n",
    "    print(f\"Title: {title}\\nPrice: {price}\\n\")\n",
    "    book_data.append({\"Title\": title, \"Price\": price})"
   ]
  },
  {
   "cell_type": "code",
   "execution_count": 36,
   "id": "d33196e2-42c7-4e27-9d54-5dd5e196f1c4",
   "metadata": {},
   "outputs": [
    {
     "name": "stdout",
     "output_type": "stream",
     "text": [
      "                                                Title    Price\n",
      "0                                A Light in the Attic  Â£51.77\n",
      "1                                  Tipping the Velvet  Â£53.74\n",
      "2                                          Soumission  Â£50.10\n",
      "3                                       Sharp Objects  Â£47.82\n",
      "4               Sapiens: A Brief History of Humankind  Â£54.23\n",
      "5                                     The Requiem Red  Â£22.65\n",
      "6   The Dirty Little Secrets of Getting Your Dream...  Â£33.34\n",
      "7   The Coming Woman: A Novel Based on the Life of...  Â£17.93\n",
      "8   The Boys in the Boat: Nine Americans and Their...  Â£22.60\n",
      "9                                     The Black Maria  Â£52.15\n",
      "10     Starving Hearts (Triangular Trade Trilogy, #1)  Â£13.99\n",
      "11                              Shakespeare's Sonnets  Â£20.66\n",
      "12                                        Set Me Free  Â£17.46\n",
      "13  Scott Pilgrim's Precious Little Life (Scott Pi...  Â£52.29\n",
      "14                          Rip it Up and Start Again  Â£35.02\n",
      "15  Our Band Could Be Your Life: Scenes from the A...  Â£57.25\n",
      "16                                               Olio  Â£23.88\n",
      "17  Mesaerion: The Best Science Fiction Stories 18...  Â£37.59\n",
      "18                       Libertarianism for Beginners  Â£51.33\n",
      "19                            It's Only the Himalayas  Â£45.17\n"
     ]
    }
   ],
   "source": [
    "df = pd.DataFrame(book_data)\n",
    "\n",
    "# Optional: Display the DataFrame\n",
    "print(df)"
   ]
  },
  {
   "cell_type": "code",
   "execution_count": null,
   "id": "9ad8787e-df17-401b-aa73-4d26d5793365",
   "metadata": {},
   "outputs": [],
   "source": []
  }
 ],
 "metadata": {
  "kernelspec": {
   "display_name": "Python 3 (ipykernel)",
   "language": "python",
   "name": "python3"
  },
  "language_info": {
   "codemirror_mode": {
    "name": "ipython",
    "version": 3
   },
   "file_extension": ".py",
   "mimetype": "text/x-python",
   "name": "python",
   "nbconvert_exporter": "python",
   "pygments_lexer": "ipython3",
   "version": "3.13.5"
  }
 },
 "nbformat": 4,
 "nbformat_minor": 5
}
