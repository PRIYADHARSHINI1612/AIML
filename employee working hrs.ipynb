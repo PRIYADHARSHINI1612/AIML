{
 "cells": [
  {
   "cell_type": "code",
   "execution_count": 1,
   "id": "7c6f35d4-2106-491a-8233-24713e8cd3b3",
   "metadata": {},
   "outputs": [],
   "source": [
    "import numpy as np"
   ]
  },
  {
   "cell_type": "code",
   "execution_count": 4,
   "id": "26cb3739-a75d-4306-916f-4782b99e8612",
   "metadata": {},
   "outputs": [],
   "source": [
    "import pandas as pd"
   ]
  },
  {
   "cell_type": "raw",
   "id": "47ffa2d1-47c3-474a-9280-d6f624e899df",
   "metadata": {},
   "source": [
    "np.random.seed(42)\n"
   ]
  },
  {
   "cell_type": "code",
   "execution_count": 10,
   "id": "b75f1000-0b8b-4343-af6f-c80819ed21f2",
   "metadata": {},
   "outputs": [],
   "source": [
    "employee=[f'EMP_{i:03d}'for i in range(1,31)] \n",
    "dates=pd.date_range(\"2025-07-01\",periods=30,freq=\"D\")"
   ]
  },
  {
   "cell_type": "code",
   "execution_count": 11,
   "id": "fa356384-9853-4bd7-8e58-9b64cc1181fd",
   "metadata": {},
   "outputs": [
    {
     "data": {
      "text/plain": [
       "['EMP_001',\n",
       " 'EMP_002',\n",
       " 'EMP_003',\n",
       " 'EMP_004',\n",
       " 'EMP_005',\n",
       " 'EMP_006',\n",
       " 'EMP_007',\n",
       " 'EMP_008',\n",
       " 'EMP_009',\n",
       " 'EMP_010',\n",
       " 'EMP_011',\n",
       " 'EMP_012',\n",
       " 'EMP_013',\n",
       " 'EMP_014',\n",
       " 'EMP_015',\n",
       " 'EMP_016',\n",
       " 'EMP_017',\n",
       " 'EMP_018',\n",
       " 'EMP_019',\n",
       " 'EMP_020',\n",
       " 'EMP_021',\n",
       " 'EMP_022',\n",
       " 'EMP_023',\n",
       " 'EMP_024',\n",
       " 'EMP_025',\n",
       " 'EMP_026',\n",
       " 'EMP_027',\n",
       " 'EMP_028',\n",
       " 'EMP_029',\n",
       " 'EMP_030']"
      ]
     },
     "execution_count": 11,
     "metadata": {},
     "output_type": "execute_result"
    }
   ],
   "source": [
    "employee_ids"
   ]
  },
  {
   "cell_type": "code",
   "execution_count": 14,
   "id": "aa690c4a-15ad-4012-b579-0af8f9d1a169",
   "metadata": {},
   "outputs": [],
   "source": [
    "data={\n",
    "    \"Date\":np.tile(dates,len(employee_ids)),\n",
    "    \"Employee_ID\":np.repeat(employee_ids,len(dates)),\n",
    "    \"Working_Hours\":np.random.uniform(4,10,size=len(dates)*len(employee_ids)).round(2)\n",
    "\n",
    "}"
   ]
  },
  {
   "cell_type": "code",
   "execution_count": 15,
   "id": "31b700d1-c84f-4a9b-a529-e1d4dbaaf845",
   "metadata": {},
   "outputs": [],
   "source": [
    "df=pd.DataFrame(data)"
   ]
  },
  {
   "cell_type": "code",
   "execution_count": 16,
   "id": "10d90d32-7318-4aeb-9884-5326c0a45f17",
   "metadata": {},
   "outputs": [
    {
     "data": {
      "text/html": [
       "<div>\n",
       "<style scoped>\n",
       "    .dataframe tbody tr th:only-of-type {\n",
       "        vertical-align: middle;\n",
       "    }\n",
       "\n",
       "    .dataframe tbody tr th {\n",
       "        vertical-align: top;\n",
       "    }\n",
       "\n",
       "    .dataframe thead th {\n",
       "        text-align: right;\n",
       "    }\n",
       "</style>\n",
       "<table border=\"1\" class=\"dataframe\">\n",
       "  <thead>\n",
       "    <tr style=\"text-align: right;\">\n",
       "      <th></th>\n",
       "      <th>Date</th>\n",
       "      <th>Employee_ID</th>\n",
       "      <th>Working_Hours</th>\n",
       "    </tr>\n",
       "  </thead>\n",
       "  <tbody>\n",
       "    <tr>\n",
       "      <th>0</th>\n",
       "      <td>2025-07-01</td>\n",
       "      <td>EMP_001</td>\n",
       "      <td>6.52</td>\n",
       "    </tr>\n",
       "    <tr>\n",
       "      <th>1</th>\n",
       "      <td>2025-07-02</td>\n",
       "      <td>EMP_001</td>\n",
       "      <td>8.01</td>\n",
       "    </tr>\n",
       "    <tr>\n",
       "      <th>2</th>\n",
       "      <td>2025-07-03</td>\n",
       "      <td>EMP_001</td>\n",
       "      <td>7.45</td>\n",
       "    </tr>\n",
       "    <tr>\n",
       "      <th>3</th>\n",
       "      <td>2025-07-04</td>\n",
       "      <td>EMP_001</td>\n",
       "      <td>7.29</td>\n",
       "    </tr>\n",
       "    <tr>\n",
       "      <th>4</th>\n",
       "      <td>2025-07-05</td>\n",
       "      <td>EMP_001</td>\n",
       "      <td>5.87</td>\n",
       "    </tr>\n",
       "    <tr>\n",
       "      <th>...</th>\n",
       "      <td>...</td>\n",
       "      <td>...</td>\n",
       "      <td>...</td>\n",
       "    </tr>\n",
       "    <tr>\n",
       "      <th>895</th>\n",
       "      <td>2025-07-26</td>\n",
       "      <td>EMP_030</td>\n",
       "      <td>8.65</td>\n",
       "    </tr>\n",
       "    <tr>\n",
       "      <th>896</th>\n",
       "      <td>2025-07-27</td>\n",
       "      <td>EMP_030</td>\n",
       "      <td>4.24</td>\n",
       "    </tr>\n",
       "    <tr>\n",
       "      <th>897</th>\n",
       "      <td>2025-07-28</td>\n",
       "      <td>EMP_030</td>\n",
       "      <td>7.45</td>\n",
       "    </tr>\n",
       "    <tr>\n",
       "      <th>898</th>\n",
       "      <td>2025-07-29</td>\n",
       "      <td>EMP_030</td>\n",
       "      <td>7.87</td>\n",
       "    </tr>\n",
       "    <tr>\n",
       "      <th>899</th>\n",
       "      <td>2025-07-30</td>\n",
       "      <td>EMP_030</td>\n",
       "      <td>5.19</td>\n",
       "    </tr>\n",
       "  </tbody>\n",
       "</table>\n",
       "<p>900 rows × 3 columns</p>\n",
       "</div>"
      ],
      "text/plain": [
       "          Date Employee_ID  Working_Hours\n",
       "0   2025-07-01     EMP_001           6.52\n",
       "1   2025-07-02     EMP_001           8.01\n",
       "2   2025-07-03     EMP_001           7.45\n",
       "3   2025-07-04     EMP_001           7.29\n",
       "4   2025-07-05     EMP_001           5.87\n",
       "..         ...         ...            ...\n",
       "895 2025-07-26     EMP_030           8.65\n",
       "896 2025-07-27     EMP_030           4.24\n",
       "897 2025-07-28     EMP_030           7.45\n",
       "898 2025-07-29     EMP_030           7.87\n",
       "899 2025-07-30     EMP_030           5.19\n",
       "\n",
       "[900 rows x 3 columns]"
      ]
     },
     "execution_count": 16,
     "metadata": {},
     "output_type": "execute_result"
    }
   ],
   "source": [
    "df"
   ]
  },
  {
   "cell_type": "code",
   "execution_count": 17,
   "id": "cfe77bb8-b373-4261-b440-84648ba06909",
   "metadata": {},
   "outputs": [],
   "source": [
    "df.to_csv(\"employee_working_hours.csv\",index=False)"
   ]
  },
  {
   "cell_type": "code",
   "execution_count": 18,
   "id": "10fc42ec-1cb2-4a25-ad66-5bc5251383c0",
   "metadata": {},
   "outputs": [],
   "source": [
    "df_csv=pd.read_csv(\"employee_working_hours.csv\")"
   ]
  },
  {
   "cell_type": "code",
   "execution_count": 20,
   "id": "e28aba5b-2623-4e43-94af-25820e757f31",
   "metadata": {},
   "outputs": [
    {
     "data": {
      "text/html": [
       "<div>\n",
       "<style scoped>\n",
       "    .dataframe tbody tr th:only-of-type {\n",
       "        vertical-align: middle;\n",
       "    }\n",
       "\n",
       "    .dataframe tbody tr th {\n",
       "        vertical-align: top;\n",
       "    }\n",
       "\n",
       "    .dataframe thead th {\n",
       "        text-align: right;\n",
       "    }\n",
       "</style>\n",
       "<table border=\"1\" class=\"dataframe\">\n",
       "  <thead>\n",
       "    <tr style=\"text-align: right;\">\n",
       "      <th></th>\n",
       "      <th>Date</th>\n",
       "      <th>Employee_ID</th>\n",
       "      <th>Working_Hours</th>\n",
       "    </tr>\n",
       "  </thead>\n",
       "  <tbody>\n",
       "    <tr>\n",
       "      <th>0</th>\n",
       "      <td>2025-07-01</td>\n",
       "      <td>EMP_001</td>\n",
       "      <td>6.52</td>\n",
       "    </tr>\n",
       "    <tr>\n",
       "      <th>1</th>\n",
       "      <td>2025-07-02</td>\n",
       "      <td>EMP_001</td>\n",
       "      <td>8.01</td>\n",
       "    </tr>\n",
       "    <tr>\n",
       "      <th>2</th>\n",
       "      <td>2025-07-03</td>\n",
       "      <td>EMP_001</td>\n",
       "      <td>7.45</td>\n",
       "    </tr>\n",
       "    <tr>\n",
       "      <th>3</th>\n",
       "      <td>2025-07-04</td>\n",
       "      <td>EMP_001</td>\n",
       "      <td>7.29</td>\n",
       "    </tr>\n",
       "    <tr>\n",
       "      <th>4</th>\n",
       "      <td>2025-07-05</td>\n",
       "      <td>EMP_001</td>\n",
       "      <td>5.87</td>\n",
       "    </tr>\n",
       "    <tr>\n",
       "      <th>...</th>\n",
       "      <td>...</td>\n",
       "      <td>...</td>\n",
       "      <td>...</td>\n",
       "    </tr>\n",
       "    <tr>\n",
       "      <th>895</th>\n",
       "      <td>2025-07-26</td>\n",
       "      <td>EMP_030</td>\n",
       "      <td>8.65</td>\n",
       "    </tr>\n",
       "    <tr>\n",
       "      <th>896</th>\n",
       "      <td>2025-07-27</td>\n",
       "      <td>EMP_030</td>\n",
       "      <td>4.24</td>\n",
       "    </tr>\n",
       "    <tr>\n",
       "      <th>897</th>\n",
       "      <td>2025-07-28</td>\n",
       "      <td>EMP_030</td>\n",
       "      <td>7.45</td>\n",
       "    </tr>\n",
       "    <tr>\n",
       "      <th>898</th>\n",
       "      <td>2025-07-29</td>\n",
       "      <td>EMP_030</td>\n",
       "      <td>7.87</td>\n",
       "    </tr>\n",
       "    <tr>\n",
       "      <th>899</th>\n",
       "      <td>2025-07-30</td>\n",
       "      <td>EMP_030</td>\n",
       "      <td>5.19</td>\n",
       "    </tr>\n",
       "  </tbody>\n",
       "</table>\n",
       "<p>900 rows × 3 columns</p>\n",
       "</div>"
      ],
      "text/plain": [
       "           Date Employee_ID  Working_Hours\n",
       "0    2025-07-01     EMP_001           6.52\n",
       "1    2025-07-02     EMP_001           8.01\n",
       "2    2025-07-03     EMP_001           7.45\n",
       "3    2025-07-04     EMP_001           7.29\n",
       "4    2025-07-05     EMP_001           5.87\n",
       "..          ...         ...            ...\n",
       "895  2025-07-26     EMP_030           8.65\n",
       "896  2025-07-27     EMP_030           4.24\n",
       "897  2025-07-28     EMP_030           7.45\n",
       "898  2025-07-29     EMP_030           7.87\n",
       "899  2025-07-30     EMP_030           5.19\n",
       "\n",
       "[900 rows x 3 columns]"
      ]
     },
     "execution_count": 20,
     "metadata": {},
     "output_type": "execute_result"
    }
   ],
   "source": [
    "df_csv"
   ]
  },
  {
   "cell_type": "code",
   "execution_count": 21,
   "id": "7074361e-54a8-4c16-921d-e95d188853e3",
   "metadata": {},
   "outputs": [
    {
     "name": "stdout",
     "output_type": "stream",
     "text": [
      "         Date Employee_ID  Working_Hours\n",
      "0  2025-07-01     EMP_001           6.52\n",
      "1  2025-07-02     EMP_001           8.01\n",
      "2  2025-07-03     EMP_001           7.45\n",
      "3  2025-07-04     EMP_001           7.29\n",
      "4  2025-07-05     EMP_001           5.87\n",
      "       Working_Hours\n",
      "count     900.000000\n",
      "mean        6.931289\n",
      "std         1.760171\n",
      "min         4.000000\n",
      "25%         5.420000\n",
      "50%         6.935000\n",
      "75%         8.382500\n",
      "max        10.000000\n",
      "30\n"
     ]
    }
   ],
   "source": [
    "print(df_csv.head())\n",
    "print(df_csv.describe())\n",
    "print(df_csv[\"Employee_ID\"].nunique())"
   ]
  },
  {
   "cell_type": "code",
   "execution_count": 24,
   "id": "02486408-b0be-4250-be9c-202353dcb00d",
   "metadata": {},
   "outputs": [
    {
     "name": "stdout",
     "output_type": "stream",
     "text": [
      "Employee_ID\n",
      "EMP_006    230.29\n",
      "EMP_025    226.44\n",
      "EMP_023    225.40\n",
      "EMP_024    223.17\n",
      "EMP_019    221.42\n",
      "EMP_028    220.66\n",
      "EMP_012    218.67\n",
      "EMP_020    214.19\n",
      "EMP_015    213.00\n",
      "EMP_021    212.81\n",
      "EMP_001    211.78\n",
      "EMP_018    210.95\n",
      "EMP_004    210.50\n",
      "EMP_030    210.43\n",
      "EMP_008    206.93\n",
      "EMP_007    206.26\n",
      "EMP_026    205.96\n",
      "EMP_017    205.23\n",
      "EMP_002    204.82\n",
      "EMP_022    203.97\n",
      "EMP_029    203.20\n",
      "EMP_005    201.25\n",
      "EMP_003    200.82\n",
      "EMP_014    200.81\n",
      "EMP_016    197.49\n",
      "EMP_010    193.67\n",
      "EMP_011    192.70\n",
      "EMP_013    192.41\n",
      "EMP_027    187.34\n",
      "EMP_009    185.59\n",
      "Name: Working_Hours, dtype: float64\n"
     ]
    }
   ],
   "source": [
    "total_hours=df_csv.groupby(\"Employee_ID\")[\"Working_Hours\"].sum().sort_values(ascending=False)\n",
    "print(total_hours)"
   ]
  },
  {
   "cell_type": "code",
   "execution_count": 30,
   "id": "56b4b515-3f48-40d3-8c8d-34aef10bb8fc",
   "metadata": {},
   "outputs": [],
   "source": [
    "avg_daily = df_csv.groupby(\"Employee_ID\")[\"Working_Hours\"].mean()"
   ]
  },
  {
   "cell_type": "code",
   "execution_count": 31,
   "id": "f5a9861a-4d40-4e2e-a4dd-a2a32154e47e",
   "metadata": {},
   "outputs": [
    {
     "name": "stdout",
     "output_type": "stream",
     "text": [
      "          Date Employee_ID  Working_Hours  Low_Hour_Flag  High_Hour_Flag\n",
      "5   2025-07-06     EMP_001           9.42          False            True\n",
      "7   2025-07-08     EMP_001           9.78          False            True\n",
      "8   2025-07-09     EMP_001           9.41          False            True\n",
      "10  2025-07-11     EMP_001           4.07           True           False\n",
      "13  2025-07-14     EMP_001           4.55           True           False\n"
     ]
    }
   ],
   "source": [
    "threshold_low=5\n",
    "threshold_high=9\n",
    "df_csv[\"Low_Hour_Flag\"]=df_csv[\"Working_Hours\"]<threshold_low\n",
    "df_csv[\"High_Hour_Flag\"]=df_csv[\"Working_Hours\"]>threshold_high\n",
    "print(df_csv[df_csv[\"Low_Hour_Flag\"]|df_csv[\"High_Hour_Flag\"]].head())"
   ]
  },
  {
   "cell_type": "code",
   "execution_count": 32,
   "id": "d14b75fa-8b6f-4eac-b016-ec67c59c0919",
   "metadata": {},
   "outputs": [
    {
     "data": {
      "image/png": "[encoded data removed]",
      "text/plain": [
       "<Figure size 1000x500 with 1 Axes>"
      ]
     },
     "metadata": {},
     "output_type": "display_data"
    }
   ],
   "source": [
    "import matplotlib.pyplot as plt\n",
    "import seaborn as sns\n",
    "top10=total_hours.head(10)\n",
    "plt.figure(figsize=(10,5))\n",
    "sns.barplot(x=top10.index,y=top10.values)\n",
    "plt.xticks(rotation=45)\n",
    "plt.title(\"Top 10 Employees By Total Working Hours\")\n",
    "plt.ylabel(\"Hours\")\n",
    "plt.tight_layout\n",
    "plt.show()"
   ]
  },
  {
   "cell_type": "code",
   "execution_count": 33,
   "id": "c7e9a1c8-210b-4f44-bb11-5bdc41e67531",
   "metadata": {},
   "outputs": [],
   "source": [
    "Grades=df.loc[(df[\"Employee_ID\"]==\"EMP_023\")]"
   ]
  },
  {
   "cell_type": "code",
   "execution_count": 34,
   "id": "30c1d69f-2d21-423f-8572-254d1465d0ac",
   "metadata": {},
   "outputs": [
    {
     "name": "stdout",
     "output_type": "stream",
     "text": [
      "          Date Employee_ID  Working_Hours\n",
      "660 2025-07-01     EMP_023           8.04\n",
      "661 2025-07-02     EMP_023           8.67\n",
      "662 2025-07-03     EMP_023           8.78\n",
      "663 2025-07-04     EMP_023           9.93\n",
      "664 2025-07-05     EMP_023           6.95\n",
      "665 2025-07-06     EMP_023           7.71\n",
      "666 2025-07-07     EMP_023           7.91\n",
      "667 2025-07-08     EMP_023           6.08\n",
      "668 2025-07-09     EMP_023           8.64\n",
      "669 2025-07-10     EMP_023           8.86\n",
      "670 2025-07-11     EMP_023           6.82\n",
      "671 2025-07-12     EMP_023           5.79\n",
      "672 2025-07-13     EMP_023           7.55\n",
      "673 2025-07-14     EMP_023           6.52\n",
      "674 2025-07-15     EMP_023           7.49\n",
      "675 2025-07-16     EMP_023           8.69\n",
      "676 2025-07-17     EMP_023           9.08\n",
      "677 2025-07-18     EMP_023           6.02\n",
      "678 2025-07-19     EMP_023           4.63\n",
      "679 2025-07-20     EMP_023           8.55\n",
      "680 2025-07-21     EMP_023           7.02\n",
      "681 2025-07-22     EMP_023           9.32\n",
      "682 2025-07-23     EMP_023           9.03\n",
      "683 2025-07-24     EMP_023           8.09\n",
      "684 2025-07-25     EMP_023           7.80\n",
      "685 2025-07-26     EMP_023           5.70\n",
      "686 2025-07-27     EMP_023           7.75\n",
      "687 2025-07-28     EMP_023           6.93\n",
      "688 2025-07-29     EMP_023           4.77\n",
      "689 2025-07-30     EMP_023           6.28\n"
     ]
    }
   ],
   "source": [
    "print(Grades)"
   ]
  },
  {
   "cell_type": "code",
   "execution_count": null,
   "id": "685d653e-59dc-4588-8903-3f0d2327bc12",
   "metadata": {},
   "outputs": [],
   "source": []
  }
 ],
 "metadata": {
  "kernelspec": {
   "display_name": "Python 3 (ipykernel)",
   "language": "python",
   "name": "python3"
  },
  "language_info": {
   "codemirror_mode": {
    "name": "ipython",
    "version": 3
   },
   "file_extension": ".py",
   "mimetype": "text/x-python",
   "name": "python",
   "nbconvert_exporter": "python",
   "pygments_lexer": "ipython3",
   "version": "3.13.5"
  }
 },
 "nbformat": 4,
 "nbformat_minor": 5
}
