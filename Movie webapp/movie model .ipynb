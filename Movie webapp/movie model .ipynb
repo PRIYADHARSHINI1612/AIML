{
 "cells": [
  {
   "cell_type": "code",
   "execution_count": 4,
   "id": "d6ca0a6b-ffa6-4b6d-b756-ce0b783c19f1",
   "metadata": {},
   "outputs": [],
   "source": [
    "import pandas as pd\n",
    "movie_info = pd.read_csv('Movie Interests.csv')"
   ]
  },
  {
   "metadata": {},
   "cell_type": "markdown",
   "source": "movie_info",
   "id": "d948b65c48150a66"
  },
  {
   "metadata": {},
   "cell_type": "markdown",
   "source": "movie_info",
   "id": "ac802c427459d74a"
  },
  {
   "cell_type": "code",
   "execution_count": 6,
   "id": "f0acb291-75fd-40d1-af1d-08d08b043799",
   "metadata": {},
   "outputs": [
    {
     "data": {
      "text/html": [
       "<div>\n",
       "<style scoped>\n",
       "    .dataframe tbody tr th:only-of-type {\n",
       "        vertical-align: middle;\n",
       "    }\n",
       "\n",
       "    .dataframe tbody tr th {\n",
       "        vertical-align: top;\n",
       "    }\n",
       "\n",
       "    .dataframe thead th {\n",
       "        text-align: right;\n",
       "    }\n",
       "</style>\n",
       "<table border=\"1\" class=\"dataframe\">\n",
       "  <thead>\n",
       "    <tr style=\"text-align: right;\">\n",
       "      <th></th>\n",
       "      <th>Age</th>\n",
       "      <th>Gender</th>\n",
       "    </tr>\n",
       "  </thead>\n",
       "  <tbody>\n",
       "    <tr>\n",
       "      <th>0</th>\n",
       "      <td>8</td>\n",
       "      <td>1</td>\n",
       "    </tr>\n",
       "    <tr>\n",
       "      <th>1</th>\n",
       "      <td>11</td>\n",
       "      <td>1</td>\n",
       "    </tr>\n",
       "    <tr>\n",
       "      <th>2</th>\n",
       "      <td>12</td>\n",
       "      <td>1</td>\n",
       "    </tr>\n",
       "    <tr>\n",
       "      <th>3</th>\n",
       "      <td>16</td>\n",
       "      <td>1</td>\n",
       "    </tr>\n",
       "    <tr>\n",
       "      <th>4</th>\n",
       "      <td>18</td>\n",
       "      <td>1</td>\n",
       "    </tr>\n",
       "    <tr>\n",
       "      <th>5</th>\n",
       "      <td>19</td>\n",
       "      <td>1</td>\n",
       "    </tr>\n",
       "    <tr>\n",
       "      <th>6</th>\n",
       "      <td>23</td>\n",
       "      <td>1</td>\n",
       "    </tr>\n",
       "    <tr>\n",
       "      <th>7</th>\n",
       "      <td>26</td>\n",
       "      <td>1</td>\n",
       "    </tr>\n",
       "    <tr>\n",
       "      <th>8</th>\n",
       "      <td>27</td>\n",
       "      <td>1</td>\n",
       "    </tr>\n",
       "    <tr>\n",
       "      <th>9</th>\n",
       "      <td>7</td>\n",
       "      <td>0</td>\n",
       "    </tr>\n",
       "    <tr>\n",
       "      <th>10</th>\n",
       "      <td>9</td>\n",
       "      <td>0</td>\n",
       "    </tr>\n",
       "    <tr>\n",
       "      <th>11</th>\n",
       "      <td>10</td>\n",
       "      <td>0</td>\n",
       "    </tr>\n",
       "    <tr>\n",
       "      <th>12</th>\n",
       "      <td>26</td>\n",
       "      <td>0</td>\n",
       "    </tr>\n",
       "    <tr>\n",
       "      <th>13</th>\n",
       "      <td>27</td>\n",
       "      <td>0</td>\n",
       "    </tr>\n",
       "    <tr>\n",
       "      <th>14</th>\n",
       "      <td>30</td>\n",
       "      <td>0</td>\n",
       "    </tr>\n",
       "    <tr>\n",
       "      <th>15</th>\n",
       "      <td>31</td>\n",
       "      <td>0</td>\n",
       "    </tr>\n",
       "    <tr>\n",
       "      <th>16</th>\n",
       "      <td>34</td>\n",
       "      <td>0</td>\n",
       "    </tr>\n",
       "    <tr>\n",
       "      <th>17</th>\n",
       "      <td>35</td>\n",
       "      <td>0</td>\n",
       "    </tr>\n",
       "  </tbody>\n",
       "</table>\n",
       "</div>"
      ],
      "text/plain": [
       "    Age  Gender\n",
       "0     8       1\n",
       "1    11       1\n",
       "2    12       1\n",
       "3    16       1\n",
       "4    18       1\n",
       "5    19       1\n",
       "6    23       1\n",
       "7    26       1\n",
       "8    27       1\n",
       "9     7       0\n",
       "10    9       0\n",
       "11   10       0\n",
       "12   26       0\n",
       "13   27       0\n",
       "14   30       0\n",
       "15   31       0\n",
       "16   34       0\n",
       "17   35       0"
      ]
     },
     "execution_count": 6,
     "metadata": {},
     "output_type": "execute_result"
    }
   ],
   "source": [
    "input_dataset = movie_info.drop(columns=['Interest'])\n",
    "input_dataset"
   ]
  },
  {
   "cell_type": "code",
   "execution_count": 8,
   "id": "995c5cdc-10b5-4528-b83b-b58f9c162f11",
   "metadata": {},
   "outputs": [
    {
     "data": {
      "text/plain": [
       "0     Animation\n",
       "1     Animation\n",
       "2     Animation\n",
       "3        Action\n",
       "4        Action\n",
       "5        Action\n",
       "6         Drama\n",
       "7         Drama\n",
       "8         Drama\n",
       "9     Animation\n",
       "10    Animation\n",
       "11    Animation\n",
       "12       Action\n",
       "13       Action\n",
       "14       Action\n",
       "15        Drama\n",
       "16        Drama\n",
       "17        Drama\n",
       "Name: Interest, dtype: object"
      ]
     },
     "execution_count": 8,
     "metadata": {},
     "output_type": "execute_result"
    }
   ],
   "source": [
    "output_dataset = movie_info['Interest']\n",
    "output_dataset"
   ]
  },
  {
   "cell_type": "code",
   "execution_count": 10,
   "id": "605ceeda-1626-4da0-b632-8ef0cbe6e093",
   "metadata": {},
   "outputs": [
    {
     "name": "stderr",
     "output_type": "stream",
     "text": [
      "C:\\Users\\Student\\anaconda3\\Lib\\site-packages\\sklearn\\utils\\validation.py:2739: UserWarning: X does not have valid feature names, but DecisionTreeClassifier was fitted with feature names\n",
      "  warnings.warn(\n"
     ]
    }
   ],
   "source": [
    "from sklearn.tree import DecisionTreeClassifier\n",
    "movie_model = DecisionTreeClassifier()\n",
    "movie_model.fit(input_dataset,output_dataset)\n",
    "movie_interest=movie_model.predict([[9,1],[33,0]])"
   ]
  },
  {
   "cell_type": "code",
   "execution_count": 11,
   "id": "40f44190-e613-4e34-bb24-f0d2f71f7f22",
   "metadata": {},
   "outputs": [
    {
     "data": {
      "text/plain": [
       "array(['Animation', 'Drama'], dtype=object)"
      ]
     },
     "execution_count": 11,
     "metadata": {},
     "output_type": "execute_result"
    }
   ],
   "source": [
    "movie_interest"
   ]
  },
  {
   "cell_type": "code",
   "execution_count": null,
   "id": "987c1ad0-d1d2-40c0-b8f1-f8f2f4ad44a8",
   "metadata": {},
   "outputs": [],
   "source": [
    " "
   ]
  }
 ],
 "metadata": {
  "kernelspec": {
   "display_name": "Python 3 (ipykernel)",
   "language": "python",
   "name": "python3"
  },
  "language_info": {
   "codemirror_mode": {
    "name": "ipython",
    "version": 3
   },
   "file_extension": ".py",
   "mimetype": "text/x-python",
   "name": "python",
   "nbconvert_exporter": "python",
   "pygments_lexer": "ipython3",
   "version": "3.13.5"
  }
 },
 "nbformat": 4,
 "nbformat_minor": 5
}
